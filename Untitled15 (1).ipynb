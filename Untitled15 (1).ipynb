{
 "cells": [
  {
   "cell_type": "code",
   "execution_count": 7,
   "id": "210470bd-4e14-47f5-ac40-443f34a11dba",
   "metadata": {},
   "outputs": [
    {
     "name": "stdout",
     "output_type": "stream",
     "text": [
      "avi 99999\n"
     ]
    }
   ],
   "source": [
    "#Q1. Explain Class and Object with respect to Object-Oriented Programming. Give a suitable example.\n",
    "\n",
    "class abc:\n",
    "    def __init__(self, name, number):\n",
    "        self.name=name\n",
    "        self.number=number\n",
    "        \n",
    "    def print_details(self):\n",
    "        print(self.name,self.number)\n",
    "        \n",
    "a1=abc(\"avi\",99999)\n",
    "\n",
    "a1.print_details()\n",
    "\n",
    "# Here in the above eg, abc is a class and a1 is the object.\n",
    "\n",
    "#Class is nothing but a blue-print or the skeletion.a class is a template definition of the methods and variables in a particular kind of object\n",
    "\n",
    "#Thus, an object is a specific instance of a class; it contains real values instead of variables."
   ]
  },
  {
   "cell_type": "code",
   "execution_count": 11,
   "id": "ac8ec471-fc67-4143-91f5-dd33d0d848be",
   "metadata": {},
   "outputs": [],
   "source": [
    "#Q2. Name the four pillars of OOPs.\n",
    "\n",
    "#i>Polymorphism\n",
    "#ii>Inhertiance\n",
    "#iii>Abstarction\n",
    "#iv>Encapsulation"
   ]
  },
  {
   "cell_type": "code",
   "execution_count": 13,
   "id": "e98c6a8f-52ef-4f70-9857-7283a259fb93",
   "metadata": {},
   "outputs": [
    {
     "data": {
      "text/plain": [
       "'avi'"
      ]
     },
     "execution_count": 13,
     "metadata": {},
     "output_type": "execute_result"
    }
   ],
   "source": [
    "#Q3. Explain why the __init__() function is used. Give a suitable example.\n",
    "\n",
    "# __inint__() is a constructor, which is used to intialize the variable of the clas while creating the class\n",
    "\n",
    "class abc:\n",
    "    def __init__(self, name, number):\n",
    "        self.name=name\n",
    "        self.number=number\n",
    "        \n",
    "        \n",
    "a1=abc(\"avi\",99999)\n",
    "\n",
    "a1.name"
   ]
  },
  {
   "cell_type": "code",
   "execution_count": 14,
   "id": "756ba94f-8554-4d62-863b-e8acfa892d41",
   "metadata": {},
   "outputs": [],
   "source": [
    "#Q4. Why self is used in OOPs?\n",
    "\n",
    "#self represents the instance of the class. By using the “self” we can access the attributes and methods of the class in python. It binds the attributes with the given arguments."
   ]
  },
  {
   "cell_type": "code",
   "execution_count": 19,
   "id": "b748f499-d347-498b-ac2f-47eb01b0c5e4",
   "metadata": {},
   "outputs": [
    {
     "name": "stdout",
     "output_type": "stream",
     "text": [
      "hello\n",
      "hello\n"
     ]
    }
   ],
   "source": [
    "#Q5 What is inheritance? Give an example for each type of inheritance.\n",
    "\n",
    "#When a class derives from another class. The child class will inherit all the public and protected properties and methods from the parent class. In addition, it will have its own properties and methods.\n",
    "\n",
    "#i > MULTILEVEL\n",
    "\n",
    "class abc:\n",
    "    def hap(self):\n",
    "        print(\"hello\")\n",
    "        \n",
    "class abc1(abc):\n",
    "    def hap1(self):\n",
    "        print(\"hello1\")\n",
    "\n",
    "class abc2(abc1):\n",
    "    def hap2(self):\n",
    "        print(\"hello2\")\n",
    "  \n",
    "obj=abc2()\n",
    "\n",
    "obj.hap()\n",
    "\n",
    "#ii> MULTIPLE\n",
    "\n",
    "class abc:\n",
    "    def hap(self):\n",
    "        print(\"hello\")\n",
    "        \n",
    "class abc1:\n",
    "    def hap1(self):\n",
    "        print(\"hello1\")\n",
    "\n",
    "class abc2(abc,abc1):\n",
    "    def hap2(self):\n",
    "        print(\"hello2\")\n",
    "\n",
    "obj1=abc2()\n",
    "\n",
    "obj1.hap()"
   ]
  },
  {
   "cell_type": "code",
   "execution_count": null,
   "id": "e2261032-e68f-4ff4-91d0-0887fe2906d3",
   "metadata": {},
   "outputs": [],
   "source": []
  }
 ],
 "metadata": {
  "kernelspec": {
   "display_name": "Python 3 (ipykernel)",
   "language": "python",
   "name": "python3"
  },
  "language_info": {
   "codemirror_mode": {
    "name": "ipython",
    "version": 3
   },
   "file_extension": ".py",
   "mimetype": "text/x-python",
   "name": "python",
   "nbconvert_exporter": "python",
   "pygments_lexer": "ipython3",
   "version": "3.10.8"
  }
 },
 "nbformat": 4,
 "nbformat_minor": 5
}
