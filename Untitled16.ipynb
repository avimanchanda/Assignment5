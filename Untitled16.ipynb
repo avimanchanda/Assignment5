{
 "cells": [
  {
   "cell_type": "code",
   "execution_count": 6,
   "id": "755a1491-91e7-43ce-8c86-471d1d60884d",
   "metadata": {},
   "outputs": [],
   "source": [
    "#Q1, Create a vehicle class with an init method having instance variables as name_of_vehicle, max_speed\n",
    "#and average_of_vehicle.\n",
    "\n",
    "class vehicle:\n",
    "    def __init__(self,name_of_vehicle, max_speed,average_of_vehicle):\n",
    "        self.name_of_vehicle=name_of_vehicle\n",
    "        self.max_speed=max_speed\n",
    "        self.average_of_vehicle=average_of_vehicle\n",
    "v1=vehicle(\"Verna\",120,24)\n"
   ]
  },
  {
   "cell_type": "code",
   "execution_count": 10,
   "id": "48c6ed14-a298-47e5-9163-a3183fbc6630",
   "metadata": {},
   "outputs": [
    {
     "data": {
      "text/plain": [
       "('Amaze', 5)"
      ]
     },
     "execution_count": 10,
     "metadata": {},
     "output_type": "execute_result"
    }
   ],
   "source": [
    "#Q2. Create a child class car from the vehicle class created in Que 1, which will inherit the vehicle class.\n",
    "#Create a method named seating_capacity which takes capacity as an argument and returns the name of\n",
    "#the vehicle and its seating capacity.\n",
    "\n",
    "class vehicle:\n",
    "    def __init__(self,name_of_vehicle, max_speed,average_of_vehicle):\n",
    "        self.name_of_vehicle=name_of_vehicle\n",
    "        self.max_speed=max_speed\n",
    "        self.average_of_vehicle=average_of_vehicle\n",
    "        \n",
    "class car(vehicle):\n",
    "    def seating_capacity(self,capactity):\n",
    "        return self.name_of_vehicle,capactity\n",
    "\n",
    "c1=car(\"Amaze\",180,25)\n",
    "\n",
    "c1.seating_capacity(5)"
   ]
  },
  {
   "cell_type": "code",
   "execution_count": 13,
   "id": "ff9a31a2-4b92-4b64-b1b5-e04caf18364d",
   "metadata": {},
   "outputs": [
    {
     "name": "stdout",
     "output_type": "stream",
     "text": [
      "hello1\n"
     ]
    }
   ],
   "source": [
    "#Q3What is multiple inheritance? Write a python code to demonstrate multiple inheritance.\n",
    "\n",
    "# In Multiple inheritnace, a single child class inherits from two or more parent class.\n",
    "\n",
    "class abc:\n",
    "    def hap(self):\n",
    "        print(\"hello\")\n",
    "        \n",
    "class abc1:\n",
    "    def hap1(self):\n",
    "        print(\"hello1\")\n",
    "\n",
    "class abc2(abc,abc1):\n",
    "    def hap2(self):\n",
    "        print(\"hello2\")\n",
    "\n",
    "obj1=abc2()\n",
    "\n",
    "obj1.hap1()"
   ]
  },
  {
   "cell_type": "code",
   "execution_count": 25,
   "id": "75fdd5e0-401b-494c-b248-4701329245d7",
   "metadata": {},
   "outputs": [
    {
     "data": {
      "text/plain": [
       "12"
      ]
     },
     "execution_count": 25,
     "metadata": {},
     "output_type": "execute_result"
    }
   ],
   "source": [
    "#Q4. What are getter and setter in python? Create a class and create a getter and a setter method in this\n",
    "#class.\n",
    "\n",
    "# Getter- It is used to acess the Private variable by the user which are declared in the class\n",
    "\n",
    "# Setter-It is used to modify the Private varaibale by the user\n",
    "import abc\n",
    "class abc:\n",
    "    \n",
    "    def __init__(self, name,idd):\n",
    "        self.name=name\n",
    "        self.__id=idd\n",
    "        \n",
    "    @property # GETTER\n",
    "    def p_acess(self):\n",
    "        return self.__id\n",
    "    \n",
    "    @p_acess.setter  #SETTER\n",
    "    def p_set(self,id1):\n",
    "        if id1<0:\n",
    "            pass\n",
    "        else:\n",
    "            self.__id=id1\n",
    " \n",
    "a1=abc('Avi',1829139)\n",
    "\n",
    "a1.p_acess\n",
    "\n",
    "a1.p_set=12\n",
    "\n",
    "a1.p_acess"
   ]
  },
  {
   "cell_type": "code",
   "execution_count": null,
   "id": "bf9de9ae-bf3a-44ef-9bd9-3efdeb16beb1",
   "metadata": {},
   "outputs": [],
   "source": [
    "#Q5.What is method overriding in python? Write a python code to demonstrate method overriding.\n",
    "\n",
    "method overriding is a example of run time polymorphism.In this Inheritance is always required. "
   ]
  }
 ],
 "metadata": {
  "kernelspec": {
   "display_name": "Python 3 (ipykernel)",
   "language": "python",
   "name": "python3"
  },
  "language_info": {
   "codemirror_mode": {
    "name": "ipython",
    "version": 3
   },
   "file_extension": ".py",
   "mimetype": "text/x-python",
   "name": "python",
   "nbconvert_exporter": "python",
   "pygments_lexer": "ipython3",
   "version": "3.10.8"
  }
 },
 "nbformat": 4,
 "nbformat_minor": 5
}
