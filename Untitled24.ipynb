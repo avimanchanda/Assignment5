{
 "cells": [
  {
   "cell_type": "code",
   "execution_count": 1,
   "id": "71fd66b0-3570-4eb2-a3fa-660758663bb6",
   "metadata": {},
   "outputs": [],
   "source": [
    "#Q1. In Python, an exception refers to an event that occurs during the execution of a program that disrupts the normal flow of instructions. When an exception occurs, the program's execution is halted, and Python raises an exception object. These exception objects contain information about the type of error that occurred and the location in the code where the error happened.\n",
    "\n",
    "# Syntax error occur when the Python interpreter encounters code that violates the language's syntax rules.\n",
    "#These errors are typically caused by typos, missing or misplaced punctuation, incorrect indentation, or improper use of Python keywords.\n",
    "\n",
    "#Exceptions, on the other hand, occur during the execution of a program, when an error or exceptional condition is encountered that disrupts the normal flow of instructions.\n",
    "#Exceptions can occur for various reasons, such as division by zero, accessing an invalid index in a list, or attempting to open a file that doesn't exist.\n",
    "\n"
   ]
  },
  {
   "cell_type": "code",
   "execution_count": 2,
   "id": "ca9c8b8f-840e-4817-bdff-69b8173257c6",
   "metadata": {},
   "outputs": [
    {
     "ename": "ZeroDivisionError",
     "evalue": "division by zero",
     "output_type": "error",
     "traceback": [
      "\u001b[0;31m---------------------------------------------------------------------------\u001b[0m",
      "\u001b[0;31mZeroDivisionError\u001b[0m                         Traceback (most recent call last)",
      "Cell \u001b[0;32mIn[2], line 6\u001b[0m\n\u001b[1;32m      3\u001b[0m a\u001b[38;5;241m=\u001b[39m\u001b[38;5;241m2\u001b[39m\n\u001b[1;32m      4\u001b[0m b\u001b[38;5;241m=\u001b[39m\u001b[38;5;241m0\u001b[39m\n\u001b[0;32m----> 6\u001b[0m \u001b[43ma\u001b[49m\u001b[38;5;241;43m/\u001b[39;49m\u001b[43mb\u001b[49m\n",
      "\u001b[0;31mZeroDivisionError\u001b[0m: division by zero"
     ]
    }
   ],
   "source": [
    "#Q2 When an exception is not handled in Python, it results in the program terminating abruptly and displaying an error message known as an unhandled exception traceback. This traceback provides information about the type of exception, the line of code where the exception occurred, and the call stack leading to that point.\n",
    "\n",
    "a=2\n",
    "b=0\n",
    "\n",
    "a/b"
   ]
  },
  {
   "cell_type": "code",
   "execution_count": 5,
   "id": "61938666-9490-489b-b3d6-e940a3ee6dd1",
   "metadata": {},
   "outputs": [
    {
     "name": "stdout",
     "output_type": "stream",
     "text": [
      "division by zero\n"
     ]
    }
   ],
   "source": [
    "#Q3 'Try and except statements are used to handle the excepttions'\n",
    "\n",
    "a=2\n",
    "b=0\n",
    "\n",
    "try:\n",
    "    print(a/b)\n",
    "    \n",
    "except ZeroDivisionError as e:\n",
    "    print(e)"
   ]
  },
  {
   "cell_type": "code",
   "execution_count": 17,
   "id": "b1c5211a-f543-406e-8e8c-79a4487f2e96",
   "metadata": {},
   "outputs": [
    {
     "name": "stdout",
     "output_type": "stream",
     "text": [
      "1.0\n",
      "There is no exception in the code, and else block would be exected\n",
      "1.0\n",
      "There is no exception in the code, and else block would be exected\n",
      "Always get executed\n"
     ]
    }
   ],
   "source": [
    "#Q4\n",
    "\n",
    "# i> Try and Else: the try statement is used for exception handling. It allows you to specify a block of code that may raise exceptions, and you can define one or more except blocks to handle specific types of exceptions.\n",
    "# The else block is optional and will only be executed if no exceptions occur in the try block. It is commonly used to handle the \"normal\" or expected flow of code when exceptions are not raised\n",
    "\n",
    "a=2\n",
    "b=2\n",
    "\n",
    "try:\n",
    "    print(a/b)\n",
    "    \n",
    "except ZeroDivisionError as e:\n",
    "    print(e)\n",
    "else:\n",
    "    print(\"There is no exception in the code, and else block would be exected\")\n",
    "    \n",
    "# ii> Finally- The finally block is optional, but when used, it ensures that certain code is always executed, even if an exception is raised or caught.\n",
    "\n",
    "try:\n",
    "    print(a/b)\n",
    "    \n",
    "except ZeroDivisionError as e:\n",
    "    print(e)\n",
    "else:\n",
    "    print(\"There is no exception in the code, and else block would be exected\")\n",
    "finally:\n",
    "    print(\"Always get executed\")\n",
    "    \n",
    "#iii>Raise: the raise keyword is used to manually raise exceptions. It allows you to explicitly raise an exception at any point in your code, signaling that an exceptional condition has occurred. The raise statement is followed by an instance or type of an exception that you want to raise. \n",
    "\n",
    "class customException(Exception):\n",
    "    def __init__(self,msg):\n",
    "        self.msg=msg\n",
    "        \n",
    "def validateage(age):\n",
    "    if age<0:\n",
    "        raise customException(\"Invalid age\")\n",
    "    elif age<18:\n",
    "        raise customException(\"Not Eligible\")\n",
    "    elif age>=101:\n",
    "        raise customException(\"Very high age\")\n",
    "    elif age>=18 and age<=100:\n",
    "        raise customException(\"Eligible\")"
   ]
  },
  {
   "cell_type": "code",
   "execution_count": 11,
   "id": "4a4024a3-448b-49f3-9662-f9d839188519",
   "metadata": {},
   "outputs": [
    {
     "name": "stdin",
     "output_type": "stream",
     "text": [
      "Enter your age 3\n"
     ]
    },
    {
     "name": "stdout",
     "output_type": "stream",
     "text": [
      "Not Eligible\n"
     ]
    }
   ],
   "source": [
    "#Q5. Cutom Exceptions are also known as user defined exceptions.we can create custom exceptions by defining new classes that inherit from the built-in Exception class or its subclasses. Custom exceptions allow you to define your own specific types of exceptions that are tailored to your application's needs. \n",
    "\n",
    "# IN this code we have defined a custom exception to check if the user is eliginle to give vote or not\n",
    "class customException(Exception):\n",
    "    def __init__(self,msg):\n",
    "        self.msg=msg\n",
    "        \n",
    "def validateage(age):\n",
    "    if age<0:\n",
    "        raise customException(\"Invalid age\")\n",
    "    elif age<18:\n",
    "        raise customException(\"Not Eligible\")\n",
    "    elif age>=101:\n",
    "        raise customException(\"Very high age\")\n",
    "    elif age>=18 and age<=100:\n",
    "        raise customException(\"Eligible\")\n",
    "        \n",
    "age=int(input(\"Enter your age\"))\n",
    "\n",
    "try:\n",
    "        validateage(age)\n",
    "        \n",
    "except customException as e:\n",
    "    print(e)"
   ]
  },
  {
   "cell_type": "code",
   "execution_count": 10,
   "id": "ae3b106d-b1b3-4219-9d5e-2ddc07a9a152",
   "metadata": {},
   "outputs": [
    {
     "name": "stdin",
     "output_type": "stream",
     "text": [
      "Enter your age 3\n"
     ]
    },
    {
     "name": "stdout",
     "output_type": "stream",
     "text": [
      "Not Eligible\n"
     ]
    }
   ],
   "source": [
    "# IN this code we have defined a custom exception to check if the user is eliginle to give vote or not\n",
    "#Q6\n",
    "class customException(Exception):\n",
    "    def __init__(self,msg):\n",
    "        self.msg=msg\n",
    "        \n",
    "def validateage(age):\n",
    "    if age<0:\n",
    "        raise customException(\"Invalid age\")\n",
    "    elif age<18:\n",
    "        raise customException(\"Not Eligible\")\n",
    "    elif age>=101:\n",
    "        raise customException(\"Very high age\")\n",
    "    elif age>=18 and age<=100:\n",
    "        raise customException(\"Eligible\")\n",
    "        \n",
    "age=int(input(\"Enter your age\"))\n",
    "\n",
    "try:\n",
    "        validateage(age)\n",
    "        \n",
    "except customException as e:\n",
    "    print(e)"
   ]
  },
  {
   "cell_type": "code",
   "execution_count": null,
   "id": "00911e78-5f91-43b6-8b3b-533358fb7e87",
   "metadata": {},
   "outputs": [],
   "source": []
  }
 ],
 "metadata": {
  "kernelspec": {
   "display_name": "Python 3 (ipykernel)",
   "language": "python",
   "name": "python3"
  },
  "language_info": {
   "codemirror_mode": {
    "name": "ipython",
    "version": 3
   },
   "file_extension": ".py",
   "mimetype": "text/x-python",
   "name": "python",
   "nbconvert_exporter": "python",
   "pygments_lexer": "ipython3",
   "version": "3.10.8"
  }
 },
 "nbformat": 4,
 "nbformat_minor": 5
}
